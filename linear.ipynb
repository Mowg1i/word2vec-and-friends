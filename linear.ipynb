{
 "cells": [
  {
   "cell_type": "markdown",
   "metadata": {},
   "source": [
    "# Fitting a line with Tensorflow"
   ]
  },
  {
   "cell_type": "markdown",
   "metadata": {},
   "source": [
    "### Import libraries"
   ]
  },
  {
   "cell_type": "code",
   "execution_count": 1,
   "metadata": {
    "collapsed": true
   },
   "outputs": [],
   "source": [
    "import numpy as np\n",
    "import matplotlib.pyplot as plt\n",
    "import tensorflow as tf"
   ]
  },
  {
   "cell_type": "markdown",
   "metadata": {},
   "source": [
    "### Generate fake data\n",
    "\n",
    "Data will look like:<br>\n",
    "> $ y=W*x+b $<br>\n",
    "\n",
    "with $ W=2 $ and $ b=3 $ plus some random gaussian noise."
   ]
  },
  {
   "cell_type": "code",
   "execution_count": 2,
   "metadata": {
    "collapsed": true
   },
   "outputs": [],
   "source": [
    "learning_rate = 0.01\n",
    "N = 100\n",
    "tol = 0.00001\n",
    "\n",
    "# Our X values will be equally distributed between -10 and 10\n",
    "train_X = np.linspace(-10, 10, N)\n",
    "\n",
    "# Generate a straight line with some gaussian noise\n",
    "train_Y = 2*train_X + 3 + np.random.randn(N) "
   ]
  },
  {
   "cell_type": "markdown",
   "metadata": {},
   "source": [
    "### Computational Graph"
   ]
  },
  {
   "cell_type": "code",
   "execution_count": 3,
   "metadata": {
    "collapsed": true
   },
   "outputs": [],
   "source": [
    "X = tf.placeholder(\"float\")\n",
    "Y = tf.placeholder(\"float\")\n",
    "\n",
    "W = tf.Variable(np.random.randn(), name=\"weight\")\n",
    "b = tf.Variable(np.random.randn(), name=\"bias\")\n",
    "y = tf.add(tf.multiply(X, W), b)\n",
    "\n",
    "# Mean Quadratic error\n",
    "cost = tf.reduce_mean(tf.pow(y-Y, 2))\n",
    "optimizer = tf.train.GradientDescentOptimizer(learning_rate).minimize(cost)\n",
    "init = tf.global_variables_initializer()"
   ]
  },
  {
   "cell_type": "markdown",
   "metadata": {},
   "source": [
    "### Train the model - Version 1"
   ]
  },
  {
   "cell_type": "code",
   "execution_count": 4,
   "metadata": {},
   "outputs": [
    {
     "name": "stdout",
     "output_type": "stream",
     "text": [
      "step 0 cost 8.09405 w 1.6862 b 0.996921\n",
      "step 10 cost 3.53835 w 1.99172 b 1.36983\n",
      "step 20 cost 2.61616 w 1.99173 b 1.67452\n",
      "step 30 cost 2.0005 w 1.99173 b 1.92348\n",
      "step 40 cost 1.58948 w 1.99173 b 2.1269\n",
      "step 50 cost 1.31508 w 1.99173 b 2.2931\n",
      "step 60 cost 1.13188 w 1.99173 b 2.4289\n"
     ]
    }
   ],
   "source": [
    "with tf.Session() as sess:\n",
    "    sess.run(init)\n",
    "    \n",
    "    step = 0\n",
    "    cost_val = 4\n",
    "    \n",
    "    # Continue training until \n",
    "    while cost_val > 1.1:\n",
    "        sess.run(optimizer, feed_dict={X: train_X, Y: train_Y})\n",
    "\n",
    "        cost_val, W_val, b_val = sess.run([cost, W, b], feed_dict={X: train_X, Y:train_Y})\n",
    "\n",
    "        if step%10 == 0:\n",
    "            print(\"step\", step, \"cost\", cost_val, \"w\", W_val, \"b\", b_val)\n",
    "\n",
    "        step += 1"
   ]
  },
  {
   "cell_type": "markdown",
   "metadata": {},
   "source": [
    "### Visualize results"
   ]
  },
  {
   "cell_type": "code",
   "execution_count": 5,
   "metadata": {
    "scrolled": true
   },
   "outputs": [
    {
     "data": {
      "image/png": "[encoded data removed]",
      "text/plain": [
       "<matplotlib.figure.Figure at 0x11d661ba8>"
      ]
     },
     "metadata": {},
     "output_type": "display_data"
    }
   ],
   "source": [
    "y1 = W_val*train_X+b_val\n",
    "plt.figure(figsize=(10,5))\n",
    "plt.plot(train_X, train_Y, 'c*')\n",
    "plt.plot(train_X, y1, 'r-')\n",
    "plt.legend([\"data\", \"Fit 1\"])\n",
    "plt.show()"
   ]
  },
  {
   "cell_type": "markdown",
   "metadata": {},
   "source": [
    "### Train the model - Version 2"
   ]
  },
  {
   "cell_type": "code",
   "execution_count": 6,
   "metadata": {},
   "outputs": [
    {
     "name": "stdout",
     "output_type": "stream",
     "text": [
      "step 0 cost 8.09405 w 1.6862 b 0.996921 norm 1000\n",
      "step 10 cost 3.53835 w 1.99172 b 1.36983 norm 0.0347095\n",
      "step 20 cost 2.61616 w 1.99173 b 1.67452 norm 0.0283415\n",
      "step 30 cost 2.0005 w 1.99173 b 1.92348 norm 0.0231571\n",
      "step 40 cost 1.58948 w 1.99173 b 2.1269 norm 0.0189211\n",
      "step 50 cost 1.31508 w 1.99173 b 2.2931 norm 0.0154598\n",
      "step 60 cost 1.13188 w 1.99173 b 2.4289 norm 0.0126319\n",
      "step 70 cost 1.00958 w 1.99173 b 2.53986 norm 0.0103211\n",
      "step 80 cost 0.927935 w 1.99173 b 2.63053 norm 0.0084331\n",
      "step 90 cost 0.873426 w 1.99173 b 2.7046 norm 0.00689054\n",
      "step 100 cost 0.837035 w 1.99173 b 2.76513 norm 0.00563002\n",
      "step 110 cost 0.81274 w 1.99173 b 2.81459 norm 0.00460005\n",
      "step 120 cost 0.79652 w 1.99173 b 2.855 norm 0.00375867\n",
      "step 130 cost 0.785692 w 1.99173 b 2.88801 norm 0.00307107\n",
      "step 140 cost 0.778463 w 1.99173 b 2.91499 norm 0.00250936\n",
      "step 150 cost 0.773637 w 1.99173 b 2.93703 norm 0.00205016\n",
      "step 160 cost 0.770415 w 1.99173 b 2.95504 norm 0.00167513\n",
      "step 170 cost 0.768264 w 1.99173 b 2.96976 norm 0.00136876\n",
      "step 180 cost 0.766828 w 1.99173 b 2.98178 norm 0.00111842\n",
      "step 190 cost 0.765869 w 1.99173 b 2.9916 norm 0.000913858\n",
      "step 200 cost 0.765229 w 1.99173 b 2.99963 norm 0.000746727\n",
      "step 210 cost 0.764802 w 1.99173 b 3.00619 norm 0.000610113\n",
      "step 220 cost 0.764517 w 1.99173 b 3.01155 norm 0.000498533\n",
      "step 230 cost 0.764326 w 1.99173 b 3.01593 norm 0.000407219\n",
      "step 240 cost 0.764199 w 1.99173 b 3.0195 norm 0.000332832\n",
      "step 250 cost 0.764114 w 1.99173 b 3.02243 norm 0.000271797\n",
      "step 260 cost 0.764058 w 1.99173 b 3.02482 norm 0.000222206\n",
      "step 270 cost 0.76402 w 1.99173 b 3.02677 norm 0.000181437\n",
      "step 280 cost 0.763995 w 1.99173 b 3.02836 norm 0.000148296\n",
      "step 290 cost 0.763978 w 1.99173 b 3.02967 norm 0.000121117\n",
      "step 300 cost 0.763967 w 1.99173 b 3.03073 norm 9.89437e-05\n",
      "step 310 cost 0.763959 w 1.99173 b 3.0316 norm 8.08239e-05\n",
      "step 320 cost 0.763954 w 1.99173 b 3.03231 norm 6.60419e-05\n",
      "step 330 cost 0.763951 w 1.99173 b 3.03289 norm 5.4121e-05\n",
      "step 340 cost 0.763948 w 1.99173 b 3.03337 norm 4.41074e-05\n",
      "step 350 cost 0.763947 w 1.99173 b 3.03375 norm 3.60012e-05\n",
      "step 360 cost 0.763946 w 1.99173 b 3.03407 norm 2.95639e-05\n",
      "step 370 cost 0.763945 w 1.99173 b 3.03433 norm 2.40803e-05\n",
      "step 380 cost 0.763945 w 1.99173 b 3.03454 norm 1.97887e-05\n",
      "step 390 cost 0.763945 w 1.99173 b 3.03471 norm 1.5974e-05\n",
      "step 400 cost 0.763944 w 1.99173 b 3.03485 norm 1.3113e-05\n",
      "step 410 cost 0.763944 w 1.99173 b 3.03497 norm 1.07288e-05\n"
     ]
    }
   ],
   "source": [
    "with tf.Session() as sess:\n",
    "    sess.run(init)\n",
    "    \n",
    "    step = 0\n",
    "    cost_val = 4\n",
    "    \n",
    "    old_W = 1000\n",
    "    old_b = 1000\n",
    "    norm = 1000\n",
    "    # Continue training until \n",
    "    while norm > tol:\n",
    "        sess.run(optimizer, feed_dict={X: train_X, Y: train_Y})\n",
    "\n",
    "        cost_val, W_val, b_val = sess.run([cost, W, b], feed_dict={X: train_X, Y:train_Y})\n",
    "\n",
    "        if step%10 == 0:\n",
    "            print(\"step\", step, \"cost\", cost_val, \"w\", W_val, \"b\", b_val, \"norm\", norm)\n",
    "        \n",
    "        norm = abs(old_W-W_val)+abs(old_b-b_val)\n",
    "        old_W, old_b = W_val, b_val\n",
    "        step += 1"
   ]
  },
  {
   "cell_type": "markdown",
   "metadata": {},
   "source": [
    "### Compare the two versions"
   ]
  },
  {
   "cell_type": "code",
   "execution_count": 7,
   "metadata": {},
   "outputs": [
    {
     "data": {
      "image/png": "[encoded data removed]",
      "text/plain": [
       "<matplotlib.figure.Figure at 0x11da02128>"
      ]
     },
     "metadata": {},
     "output_type": "display_data"
    }
   ],
   "source": [
    "y2 = W_val*train_X+b_val\n",
    "plt.figure(figsize=(10,5))\n",
    "plt.plot(train_X, train_Y, 'c*')\n",
    "plt.plot(train_X, y1, 'r-')\n",
    "plt.plot(train_X, y2, 'b-')\n",
    "plt.legend([\"data\", \"Fit 1\", \"Fit 2\"])\n",
    "plt.show()"
   ]
  },
  {
   "cell_type": "code",
   "execution_count": null,
   "metadata": {
    "collapsed": true
   },
   "outputs": [],
   "source": []
  }
 ],
 "metadata": {
  "anaconda-cloud": {},
  "kernelspec": {
   "display_name": "Python [conda env:py35]",
   "language": "python",
   "name": "conda-env-py35-py"
  },
  "language_info": {
   "codemirror_mode": {
    "name": "ipython",
    "version": 3
   },
   "file_extension": ".py",
   "mimetype": "text/x-python",
   "name": "python",
   "nbconvert_exporter": "python",
   "pygments_lexer": "ipython3",
   "version": "3.5.2"
  }
 },
 "nbformat": 4,
 "nbformat_minor": 2
}
