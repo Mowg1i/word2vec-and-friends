{
 "cells": [
  {
   "cell_type": "markdown",
   "metadata": {},
   "source": [
    "# Word2vec basic implementation\n",
    "\n",
    "See https://www.tensorflow.org/tutorials/word2vec\n",
    "And https://www.github.com/tensorflow/tensorflow/blob/r1.1/tensorflow/examples/tutorials/word2vec/word2vec_basic.py\n",
    "for further details"
   ]
  },
  {
   "cell_type": "code",
   "execution_count": 1,
   "execution_count": 11,
   "metadata": {
    "collapsed": true
   },
   "outputs": [],
   "source": [
    "import collections\n",
    "import math\n",
    "import os\n",
    "import random\n",
    "import zipfile\n",
    "\n",
    "import numpy as np\n",
    "import tensorflow as tf\n",

    "from sklearn.manifold import TSNE\n",
    "import matplotlib.pyplot as plt"
   ]
  },
  {
   "cell_type": "markdown",
   "metadata": {},
   "source": [
    "### Read the data into a list of strings."
   ]
  },
  {
   "cell_type": "code",
   "execution_count": 2,
   "execution_count": 12,
   "metadata": {
    "collapsed": true
   },
   "outputs": [],
   "source": [
    "def read_data(filename):\n",
    "    \"\"\"Extract the first file enclosed in a zip file as a list of words\"\"\"\n",
    "    \n",
    "    with zipfile.ZipFile(filename) as f:\n",
    "        data = tf.compat.as_str(f.read(f.namelist()[0])).split()\n",
    "    \n",
    "    return data"
   ]
  },
  {
   "cell_type": "markdown",
   "metadata": {},
   "source": [
    "### Build the dictionary and replace rare words with UNK token."
   ]
  },
  {
   "cell_type": "code",
   "execution_count": 3,
   "metadata": {
    "collapsed": true
   },
   "outputs": [],
   "source": [
    "def build_dataset(words, vocabulary_size):\n",
    "    count = [['UNK', -1]]\n",
    "    count.extend(collections.Counter(words).most_common(vocabulary_size - 1))\n",
    "    dictionary = dict()\n",
    "    \n",
    "    for word, _ in count:\n",
    "        dictionary[word] = len(dictionary)\n",
    "    \n",
    "    data = list()\n",
    "    unk_count = 0\n",
    "    for word in words:\n",
    "        if word in dictionary:\n",
    "            index = dictionary[word]\n",
    "        else:\n",
    "            index = 0  # dictionary['UNK']\n",
    "            unk_count += 1\n",
    "\n",
    "        data.append(index)\n",
    "\n",
    "    count[0][1] = unk_count\n",
    "    reverse_dictionary = dict(zip(dictionary.values(), dictionary.keys()))\n",
    "    \n",
    "    return data, count, dictionary, reverse_dictionary"
   ]
  },
  {
   "cell_type": "markdown",
   "metadata": {},
   "source": [
    "### Function to generate a training batch for the skip-gram model."
   ]
  },
  {
   "cell_type": "code",
   "execution_count": 14,
   "metadata": {
    "collapsed": true
   },
   "outputs": [],
   "source": [
    "def generate_batch(batch_size, num_skips, skip_window):\n",
    "    global data_index\n",
    "\n",
    "    batch = np.ndarray(shape=(batch_size), dtype=np.int32)\n",
    "    labels = np.ndarray(shape=(batch_size, 1), dtype=np.int32)\n",
    "    span = 2 * skip_window + 1  # [ skip_window target skip_window ]\n",
    "    buffer = collections.deque(maxlen=span)\n",
    "\n",
    "    for _ in range(span):\n",
    "        buffer.append(data[data_index])\n",
    "        data_index = (data_index + 1) % len(data)\n",
    "\n",
    "    for i in range(batch_size // num_skips):\n",
    "        target = skip_window  # target label at the center of the buffer\n",
    "        targets_to_avoid = [skip_window]\n",
    "        for j in range(num_skips):\n",
    "            while target in targets_to_avoid:\n",
    "                target = random.randint(0, span - 1)\n",
    "            \n",
    "            targets_to_avoid.append(target)\n",
    "            batch[i * num_skips + j] = buffer[skip_window]\n",
    "            labels[i * num_skips + j, 0] = buffer[target]\n",
    "        buffer.append(data[data_index])\n",
    "        data_index = (data_index + 1) % len(data)\n",
    "    \n",
    "    # Backtrack a little bit to avoid skipping words in the end of a batch\n",
    "    data_index = (data_index + len(data) - span) % len(data)\n",
    "    return batch, labels"
   ]
  },
  {
   "cell_type": "markdown",
   "metadata": {},
   "source": [
    "Load the data in a usable form and print some statistics"
   ]
  },
  {
   "cell_type": "code",
   "execution_count": 15,
   "metadata": {
    "scrolled": true
   },
   "outputs": [
    {
     "name": "stdout",
     "output_type": "stream",
     "text": [
      "Data size 17005207\n",
      "Most common words (+UNK) [['UNK', 418391], ('the', 1061396), ('of', 593677), ('and', 416629), ('one', 411764)]\n",
      "Sample data [5240, 3084, 12, 6, 195, 2, 3136, 46, 59, 156] ['anarchism', 'originated', 'as', 'a', 'term', 'of', 'abuse', 'first', 'used', 'against']\n"
     ]
    }
   ],
   "source": [
    "filename = 'text8.zip'\n",
    "words = read_data(filename)\n",
    "print('Data size', len(words))\n",
    "vocabulary_size = 50000\n",
    "\n",
    "data, count, dictionary, reverse_dictionary = build_dataset(words, vocabulary_size)\n",
    "del words  # Hint to reduce memory.\n",
    "print('Most common words (+UNK)', count[:5])\n",
    "print('Sample data', data[:10], [reverse_dictionary[i] for i in data[:10]])"
   ]
  },
  {
   "cell_type": "code",
   "execution_count": 16,
   "metadata": {
    "collapsed": true
   },
   "outputs": [],
   "source": [
    "data_index = 0\n",
    "batch_size = 128 # Size of each mini batch\n",
    "embedding_size = 128  # Dimension of the embedding vector.\n",
    "skip_window = 1       # How many words to consider left and right.\n",
    "num_skips = 2         # How many times to reuse an input to generate a label.\n",
    "valid_size = 16     # Random set of words to evaluate similarity on.\n",
    "valid_window = 100  # Only pick dev samples in the head of the distribution.\n",
    "valid_examples = np.random.choice(valid_window, valid_size, replace=False)\n",
    "num_sampled = 64    # Number of negative examples to sample.\n",
    "num_steps = 100001 # Number of training steps"
   ]
  },
  {
   "cell_type": "markdown",
   "metadata": {},
   "source": [
    "## Define the computational graph"
   ]
  },
  {
   "cell_type": "code",
   "execution_count": 7,
   "metadata": {
    "collapsed": true
   },
   "outputs": [],
   "source": [
    "graph = tf.Graph() # Explicitly create a graph\n",
    "\n",
    "with graph.as_default(): # Set it as default\n",
    "    # Input data\n",
    "    train_inputs = tf.placeholder(tf.int32, shape=[batch_size])\n",
    "    train_labels = tf.placeholder(tf.int32, shape=[batch_size, 1])\n",
    "    valid_dataset = tf.constant(valid_examples, dtype=tf.int32)\n",
    "\n",
    "    # Ops and variables pinned to the CPU because of missing GPU implementation\n",
    "    #with tf.device('/cpu:0'):\n",
    "    # Look up embeddings for inputs.\n",
    "    # Hidden layer\n",
    "    embeddings = tf.Variable(\n",
    "        tf.random_uniform([vocabulary_size, embedding_size], -1.0, 1.0))\n",
    "    embed = tf.nn.embedding_lookup(embeddings, train_inputs)\n",
    "\n",
    "    # Construct the variables for the NCE loss\n",
    "    # Output layer\n",
    "    nce_weights = tf.Variable(\n",
    "        tf.truncated_normal([vocabulary_size, embedding_size],\n",
    "                        stddev=1.0 / math.sqrt(embedding_size)))\n",
    "    nce_biases = tf.Variable(tf.zeros([vocabulary_size]))\n",
    "\n",
    "    # Compute the average NCE loss for the batch.\n",
    "    # tf.nce_loss automatically draws a new sample of the negative labels each\n",
    "    # time we evaluate the loss.\n",
    "    loss = tf.reduce_mean(\n",
    "        tf.nn.nce_loss(weights=nce_weights,\n",
    "                 biases=nce_biases,\n",
    "                 labels=train_labels,\n",
    "                 inputs=embed,\n",
    "                 num_sampled=num_sampled,\n",
    "                 num_classes=vocabulary_size))\n",
    "\n",
    "    # Construct the SGD optimizer using a learning rate of 1.0.\n",
    "    optimizer = tf.train.GradientDescentOptimizer(1.0).minimize(loss)\n",
    "\n",
    "    # Compute the cosine similarity between minibatch examples and all embeddings.\n",
    "    norm = tf.sqrt(tf.reduce_sum(tf.square(embeddings), 1, keep_dims=True))\n",
    "\n",
    "    normalized_embeddings = embeddings / norm\n",
    "    valid_embeddings = tf.nn.embedding_lookup(\n",
    "    normalized_embeddings, valid_dataset)\n",
    "    similarity = tf.matmul(\n",
    "        valid_embeddings, normalized_embeddings, transpose_b=True)\n",
    "\n",
    "    # Add variable initializer.\n",
    "    init = tf.global_variables_initializer()"
   ]
  },
  {
   "cell_type": "markdown",
   "metadata": {},
   "source": [
    "### Train the model"
   ]
  },
  {
   "cell_type": "code",
   "execution_count": 8,
   "metadata": {
    "scrolled": false
   },
   "outputs": [
    {
     "name": "stdout",
     "output_type": "stream",
     "text": [
      "Initialized\n",
      "Average loss at step  1000 :  144.551365295\n",
      "Average loss at step  2000 :  82.3059581985\n",
      "Average loss at step  3000 :  59.443390624\n",
      "Average loss at step  4000 :  45.2703127866\n",
      "Average loss at step  5000 :  36.603318687\n",
      "Average loss at step  6000 :  30.9132188077\n",
      "Average loss at step  7000 :  25.2903668342\n",
      "Average loss at step  8000 :  21.9931985087\n",
      "Average loss at step  9000 :  19.5215683169\n",
      "Average loss at step  10000 :  16.7805701239\n",
      "Average loss at step  11000 :  14.7034152672\n",
      "Average loss at step  12000 :  13.2706725059\n",
      "Average loss at step  13000 :  12.2553149786\n",
      "Average loss at step  14000 :  11.5012504716\n",
      "Average loss at step  15000 :  10.272830724\n",
      "Average loss at step  16000 :  9.46677928448\n",
      "Average loss at step  17000 :  8.53889240479\n",
      "Average loss at step  18000 :  8.2961878643\n",
      "Average loss at step  19000 :  8.16445526862\n",
      "Average loss at step  20000 :  7.82758200932\n",
      "Average loss at step  21000 :  7.04827410269\n",
      "Average loss at step  22000 :  6.84530855417\n",
      "Average loss at step  23000 :  7.16695956159\n",
      "Average loss at step  24000 :  6.56428625989\n",
      "Average loss at step  25000 :  6.8372392478\n",
      "Average loss at step  26000 :  6.53882512879\n",
      "Average loss at step  27000 :  6.39347043538\n",
      "Average loss at step  28000 :  6.41261622882\n",
      "Average loss at step  29000 :  5.7986660974\n",
      "Average loss at step  30000 :  6.06612227893\n",
      "Average loss at step  31000 :  6.07973228645\n",
      "Average loss at step  32000 :  5.82113748574\n",
      "Average loss at step  33000 :  5.78151023793\n",
      "Average loss at step  34000 :  5.59039100409\n",
      "Average loss at step  35000 :  5.88147791529\n",
      "Average loss at step  36000 :  5.6328967495\n",
      "Average loss at step  37000 :  5.76033736992\n",
      "Average loss at step  38000 :  5.22740372252\n",
      "Average loss at step  39000 :  5.02917208481\n",
      "Average loss at step  40000 :  5.4665378828\n",
      "Average loss at step  41000 :  5.43390143752\n",
      "Average loss at step  42000 :  5.35526956701\n",
      "Average loss at step  43000 :  5.2750275476\n",
      "Average loss at step  44000 :  5.21290158141\n",
      "Average loss at step  45000 :  5.30108120751\n",
      "Average loss at step  46000 :  5.17755549598\n",
      "Average loss at step  47000 :  5.11941395497\n",
      "Average loss at step  48000 :  5.29102732825\n",
      "Average loss at step  49000 :  4.98296638608\n",
      "Average loss at step  50000 :  5.00268477488\n",
      "Average loss at step  51000 :  5.14078003764\n",
      "Average loss at step  52000 :  4.94276989746\n",
      "Average loss at step  53000 :  5.22973883128\n",
      "Average loss at step  54000 :  5.17860956573\n",
      "Average loss at step  55000 :  5.02892838359\n",
      "Average loss at step  56000 :  5.02630783963\n",
      "Average loss at step  57000 :  5.07528640079\n",
      "Average loss at step  58000 :  5.03886110592\n",
      "Average loss at step  59000 :  4.97919775844\n",
      "Average loss at step  60000 :  4.91108270359\n",
      "Average loss at step  61000 :  5.08993848681\n",
      "Average loss at step  62000 :  4.92923687243\n",
      "Average loss at step  63000 :  4.84057481337\n",
      "Average loss at step  64000 :  4.86602863431\n",
      "Average loss at step  65000 :  4.64938016701\n",
      "Average loss at step  66000 :  4.54436824036\n",
      "Average loss at step  67000 :  4.97304192567\n",
      "Average loss at step  68000 :  4.95690708137\n",
      "Average loss at step  69000 :  4.87910642409\n",
      "Average loss at step  70000 :  4.91459868455\n",
      "Average loss at step  71000 :  4.7715853405\n",
      "Average loss at step  72000 :  4.68982188463\n",
      "Average loss at step  73000 :  4.77252971363\n",
      "Average loss at step  74000 :  4.84316845822\n",
      "Average loss at step  75000 :  4.76365713382\n",
      "Average loss at step  76000 :  4.70218699789\n",
      "Average loss at step  77000 :  4.79265570211\n",
      "Average loss at step  78000 :  4.79089068383\n",
      "Average loss at step  79000 :  4.79269381154\n",
      "Average loss at step  80000 :  4.80676656079\n",
      "Average loss at step  81000 :  4.71383281922\n",
      "Average loss at step  82000 :  4.77786727738\n",
      "Average loss at step  83000 :  4.75730142784\n",
      "Average loss at step  84000 :  4.74242789602\n",
      "Average loss at step  85000 :  4.79805124235\n",
      "Average loss at step  86000 :  4.75503768206\n",
      "Average loss at step  87000 :  4.74506449866\n",
      "Average loss at step  88000 :  4.75844265079\n",
      "Average loss at step  89000 :  4.78321825361\n",
      "Average loss at step  90000 :  4.68083994937\n",
      "Average loss at step  91000 :  4.70241736722\n",
      "Average loss at step  92000 :  4.65088987279\n",
      "Average loss at step  93000 :  4.75935855603\n",
      "Average loss at step  94000 :  4.66473822212\n",
      "Average loss at step  95000 :  4.68919145727\n",
      "Average loss at step  96000 :  4.67286995506\n",
      "Average loss at step  97000 :  4.61742564416\n",
      "Average loss at step  98000 :  4.57707728481\n",
      "Average loss at step  99000 :  4.70604042554\n",
      "Average loss at step  100000 :  4.6975559957\n"

     ]
    }
   ],
   "source": [
    "with tf.Session(graph=graph) as session:\n",
    "    # We must initialize all variables before we use them.\n",
    "    init.run()\n",
    "    print(\"Initialized\")\n",
    "\n",
    "    average_loss = 0\n",
    "    for step in range(1, num_steps):\n",
    "        batch_inputs, batch_labels = generate_batch(batch_size, num_skips, skip_window)\n",
    "        feed_dict = {train_inputs: batch_inputs, train_labels: batch_labels}\n",
    "\n",
    "        # We perform one update step by evaluating the optimizer op (including it\n",
    "        # in the list of returned values for session.run()\n",
    "        _, loss_val = session.run([optimizer, loss], feed_dict=feed_dict)\n",
    "        average_loss += loss_val\n",
    "\n",
    "        if step % 1000 == 0:\n",
    "            average_loss /= 1000\n",
    "            # The average loss is an estimate of the loss over the last 2000 batches.\n",
    "            print(\"Average loss at step \", step, \": \", average_loss)\n",
    "            average_loss = 0\n",
    "\n",
    "    final_embeddings = normalized_embeddings.eval()"
   ]
  },
  {
   "cell_type": "markdown",
   "metadata": {},
   "source": [
    "### Save embedding vectors as csv file"
   ]
  },
  {
   "cell_type": "code",
   "execution_count": 9,
   "metadata": {
    "collapsed": true
   },
   "outputs": [],
   "source": [
    "import pandas as pd\n",
    "\n",
    "items = list(reverse_dictionary.items())\n",
    "items.sort(key=lambda x: x[0])\n",
    "\n",
    "words = [word for pos, word in items]\n",
    "\n",
    "df = pd.DataFrame(final_embeddings, index=words)\n",
    "df.to_csv(\"embeddings2.csv\")"
   ]
  },
  {
   "cell_type": "code",
   "execution_count": null,
   "metadata": {
    "collapsed": true
   },
   "outputs": [],
   "source": []
  }
 ],
 "metadata": {
  "anaconda-cloud": {},
  "kernelspec": {
   "display_name": "Python [conda env:py35]",
   "language": "python",
   "name": "conda-env-py35-py"
  },
  "language_info": {
   "codemirror_mode": {
    "name": "ipython",
    "version": 3
   },
   "file_extension": ".py",
   "mimetype": "text/x-python",
   "name": "python",
   "nbconvert_exporter": "python",
   "pygments_lexer": "ipython3",
   "version": "3.5.2"
  }
 },
 "nbformat": 4,
 "nbformat_minor": 2
}
